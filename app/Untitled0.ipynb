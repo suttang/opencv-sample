{
 "metadata": {
  "name": "",
  "signature": "sha256:526210699533d4a3a86db18ac25209519b09c7719215500201d0b87b56f7fa4b"
 },
 "nbformat": 3,
 "nbformat_minor": 0,
 "worksheets": []
}